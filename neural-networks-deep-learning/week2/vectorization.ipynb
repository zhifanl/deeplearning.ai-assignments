{
 "cells": [
  {
   "cell_type": "code",
   "execution_count": 2,
   "metadata": {},
   "outputs": [
    {
     "name": "stdout",
     "output_type": "stream",
     "text": [
      "[1 2 3 4]\n"
     ]
    }
   ],
   "source": [
    "import numpy as np\n",
    "a=np.array([1,2,3,4])\n",
    "print(a)\n",
    "\n"
   ]
  },
  {
   "cell_type": "code",
   "execution_count": 4,
   "metadata": {},
   "outputs": [
    {
     "name": "stdout",
     "output_type": "stream",
     "text": [
      "vectorized version: 5.774021148681641ms\n",
      "[0.37584499 0.26876763 0.26937002 ... 0.42050922 0.7372869  0.05742288] 10000000\n",
      "[0.80591978 0.8020101  0.03615703 ... 0.99390115 0.07240472 0.47795807] 10000000\n",
      "2499591.827870168\n"
     ]
    }
   ],
   "source": [
    "import time\n",
    "a=np.random.rand(10000000)\n",
    "b=np.random.rand(10000000)\n",
    "tic=time.time()\n",
    "c=np.dot(a,b)\n",
    "toc=time.time()\n",
    "\n",
    "print(\"vectorized version: \"+str(1000*(toc-tic))+\"ms\")\n",
    "print(str(a),len(a))\n",
    "print(str(b),len(b))\n",
    "print(str(c))"
   ]
  },
  {
   "cell_type": "code",
   "execution_count": 5,
   "metadata": {},
   "outputs": [
    {
     "name": "stdout",
     "output_type": "stream",
     "text": [
      "[1.45622139 1.30835109 1.30913946 ... 1.52273676 2.09025674 1.05910359] 10000000\n",
      "[-0.97857847 -1.31390808 -1.3116693  ... -0.86628888 -0.30477818\n",
      " -2.85731237] 10000000\n",
      "[0.37584499 0.26876763 0.26937002 ... 0.42050922 0.7372869  0.05742288] 10000000\n"
     ]
    }
   ],
   "source": [
    "u=np.exp(a)\n",
    "v=np.log(a)\n",
    "w=np.abs(a)\n",
    "print(str(u),len(u))\n",
    "print(str(v),len(v))\n",
    "print(str(w),len(w))\n",
    "\n"
   ]
  },
  {
   "cell_type": "code",
   "execution_count": 8,
   "metadata": {},
   "outputs": [
    {
     "name": "stdout",
     "output_type": "stream",
     "text": [
      "[[ 0.01554034 -0.00548963  0.0259657 ]\n",
      " [-0.37402753 -0.00221909  0.27642263]\n",
      " [ 0.00772533  0.02180713  0.00913073]]\n"
     ]
    }
   ],
   "source": [
    "a = np.random.randn(3, 3)\n",
    "b = np.random.randn(3, 1)\n",
    "\n",
    "c = a*b\n",
    "print (c)"
   ]
  },
  {
   "cell_type": "code",
   "execution_count": null,
   "metadata": {},
   "outputs": [],
   "source": []
  }
 ],
 "metadata": {
  "interpreter": {
   "hash": "31f2aee4e71d21fbe5cf8b01ff0e069b9275f58929596ceb00d14d90e3e16cd6"
  },
  "kernelspec": {
   "display_name": "Python 3.8.9 64-bit",
   "language": "python",
   "name": "python3"
  },
  "language_info": {
   "codemirror_mode": {
    "name": "ipython",
    "version": 3
   },
   "file_extension": ".py",
   "mimetype": "text/x-python",
   "name": "python",
   "nbconvert_exporter": "python",
   "pygments_lexer": "ipython3",
   "version": "3.8.3"
  },
  "orig_nbformat": 4
 },
 "nbformat": 4,
 "nbformat_minor": 2
}
